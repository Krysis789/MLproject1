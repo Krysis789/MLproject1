{
 "cells": [
  {
   "cell_type": "code",
   "execution_count": 1,
   "metadata": {},
   "outputs": [],
   "source": [
    "# Useful starting lines\n",
    "%matplotlib inline\n",
    "import numpy as np\n",
    "import matplotlib.pyplot as plt\n",
    "%load_ext autoreload\n",
    "%autoreload 2"
   ]
  },
  {
   "cell_type": "markdown",
   "metadata": {},
   "source": [
    "## Load the training data into feature matrix, class labels, and event ids:"
   ]
  },
  {
   "cell_type": "code",
   "execution_count": 2,
   "metadata": {},
   "outputs": [],
   "source": [
    "from proj1_helpers import *\n",
    "DATA_TRAIN_PATH = '../../data/train.csv' # TODO: download train data and supply path here \n",
    "y, tX, ids = load_csv_data(DATA_TRAIN_PATH)"
   ]
  },
  {
   "cell_type": "markdown",
   "metadata": {},
   "source": [
    "## Do your thing crazy machine learning thing here :) ..."
   ]
  },
  {
   "cell_type": "code",
   "execution_count": 3,
   "metadata": {},
   "outputs": [
    {
     "name": "stdout",
     "output_type": "stream",
     "text": [
      "[ 8.03320457e-05 -7.20236456e-03 -6.05394729e-03 -5.47591803e-04\n",
      " -1.93839880e-02  4.73429232e-04 -2.60392491e-02  3.25105641e-01\n",
      " -3.80831024e-05 -2.72785891e+00 -2.21220397e-01  9.50793593e-02\n",
      "  6.40330465e-02  2.73611857e+00 -3.31802268e-04 -9.54326312e-04\n",
      "  2.74087533e+00 -5.34165279e-04  9.73498884e-04  3.69225050e-03\n",
      "  3.54487165e-04 -5.43344617e-04 -3.30448034e-01 -1.40800496e-03\n",
      "  8.31432874e-04  1.02117271e-03 -1.68047418e-03 -5.83664770e-03\n",
      " -1.11088005e-02  2.72831885e+00]\n"
     ]
    }
   ],
   "source": [
    "##Implementations of the required function\n",
    "\n",
    "#Linear regression using gradient descent\n",
    "def least_squares_GD(y, tx, initial_w, max_iters, gamma):\n",
    "    nIters = 0 #Keep count of iterations\n",
    "    w = initial_w #Current weights\n",
    "    n = len(y) #Number of observations\n",
    "    while (nIters < max_iters):\n",
    "        e = y - np.dot(tx, w) #Residual vector\n",
    "        gradient = -np.dot(np.transpose(tx), e) / n #Gradient\n",
    "        w -= gamma * gradient #A step towards negative gradient\n",
    "        nIters += 1 #Update number of iterations\n",
    "    e = y - np.dot(tx, w) #Compute final residuals\n",
    "    return w, np.dot(np.transpose(e), e) / (2 * n) #Return weights and loss (2n as a scaler)\n",
    "\n",
    "#Linear regression using stochastic gradient descent\n",
    "def least_squares_SGD(y, tx, initial_w, max_iters, gamma):\n",
    "    nIters = 0\n",
    "    w = initial_w\n",
    "    n = len(y)\n",
    "    while (nIters < max_iters):\n",
    "        index = np.random.randint(0, n) #Pick a row uniformly\n",
    "        row = tx[np.random.randint(0, n), ] \n",
    "        e = y[index] - np.dot(row, w) #Estimate error\n",
    "        gradient = -np.dot(np.transpose(row), e) #Estimate for gradient\n",
    "        w -= gamma * gradient #Calculate new w\n",
    "        nIters += 1 #Update number of iterations\n",
    "    e = y - np.dot(tx, w) #Calculate residuals for final loss\n",
    "    return w, np.dot(np.transpose(e), e) / (2 * n) #Return weights and loss (2n as a scaler)\n",
    "\n",
    "#Least squares regression using normal equations\n",
    "def least_squares(y, tx):\n",
    "    xtx = np.dot(np.transpose(tx), tx) #Calculate Gram matrix\n",
    "    w = np.dot(np.dot(np.linalg.inv(xtx), np.transpose(tx)), y) #Calculate weigths\n",
    "    e = y - np.dot(tx, w) #Calculate residuals\n",
    "    loss = np.dot(np.transpose(e), e) / (2 * len(y)) #Calculate loss (2n as scaler)\n",
    "    return w, loss\n",
    "\n",
    "#Ridge regression using normal equations\n",
    "def ridge_regression(y, tx, lambda_):\n",
    "    xtx = np.dot(np.transpose(tx), tx) + lambda_ * np.identity(np.shape(tx)[1]) #Calculate modified Gram matrix\n",
    "    w = np.dot(np.dot(np.linalg.inv(xtx), np.transpose(tx)), y) #Calculate weigths\n",
    "    e = y - np.dot(tx, w) #Calculate residuals\n",
    "    loss = np.dot(np.transpose(e), e) / (2 * len(y)) #Calculate loss (2n as scaler)\n",
    "    return w, loss\n",
    "\n",
    "#Logistic regression using gradient descent or SGD\n",
    "def logistic_regression(y, tx, initial_w, max_iters, gamma):\n",
    "    return 0\n",
    "#Regularized logistic regression using gradient descent or SGD\n",
    "def reg_logistic_regression(y, tx, lambda_, initial_w, max_iters, gamma):\n",
    "    return 0\n",
    "\n",
    "## Tests:\n",
    "w1, loss1 = least_squares(y, tX)\n",
    "w2, loss2 = ridge_regression(y, tX, 0.02)\n",
    "w3, loss3 = least_squares_GD(y, tX, 10 * w2, 20, 0.01)\n",
    "w4, loss4 = least_squares_SGD(y, tX, np.ones(30), 10, 0.01)\n",
    "print(w1)\n"
   ]
  },
  {
   "cell_type": "code",
   "execution_count": 14,
   "metadata": {},
   "outputs": [
    {
     "name": "stdout",
     "output_type": "stream",
     "text": [
      "[[ 3.14910656e-01  6.83319669e-02  4.07680272e-01 -4.69966242e-01\n",
      "  -1.59163777e+00 -1.15330600e+00  1.80634634e+00  8.82477616e-01\n",
      "   1.03309853e+00  3.39894409e-01]\n",
      " [ 7.40827026e-01  5.52504823e-01  5.40136414e-01 -1.53167493e-01\n",
      "   8.51752464e-15 -4.77609639e-15 -1.20751602e-15  1.40488790e+00\n",
      "  -7.56027155e-01 -2.87584486e-01]\n",
      " [-2.96341266e-14  3.19515553e+00  1.09655998e+00 -3.49709651e-01\n",
      "   8.51752464e-15 -4.77609639e-15 -1.20751602e-15  9.89769704e-01\n",
      "  -4.30168330e-01  3.40361109e-01]\n",
      " [ 4.17944237e-01  9.10379098e-01 -5.85328814e-03 -9.03015649e-01\n",
      "   8.51752464e-15 -4.77609639e-15 -1.20751602e-15  1.19669016e+00\n",
      "  -8.30734938e-01 -7.12705477e-01]\n",
      " [ 1.02380444e+00 -9.14556190e-01  1.31336873e+00 -6.51804263e-01\n",
      "   8.51752464e-15 -4.77609639e-15 -1.20751602e-15  1.93879376e+00\n",
      "  -1.12794943e-01 -8.68142689e-01]\n",
      " [-6.08808624e-01 -1.00976110e+00 -5.39645661e-01  9.18192277e-01\n",
      "   2.47488142e-01 -4.07036811e-01  1.45892171e-01 -1.29146444e+00\n",
      "   1.91715559e+00  1.04094778e+00]\n",
      " [ 5.09868770e-01 -5.76543386e-01  6.51504401e-01  7.57734951e-01\n",
      "  -1.78023875e+00 -9.96240920e-01  4.84094471e-01  7.25371346e-01\n",
      "  -7.35060488e-01  1.27508454e+00]\n",
      " [ 6.26684396e-01 -1.09837382e+00  3.31434716e-01 -4.51287589e-01\n",
      "   8.51752464e-15 -4.77609639e-15 -1.20751602e-15  6.69170729e-01\n",
      "  -7.80810026e-01 -1.75049154e-01]\n",
      " [-3.08333506e-01  3.73231753e-02  4.85125968e-01 -8.42156859e-01\n",
      "   8.51752464e-15 -4.77609639e-15 -1.20751602e-15  6.78111736e-01\n",
      "  -6.56805882e-01 -8.04619558e-01]\n",
      " [ 1.17431205e-01  1.12325332e+00 -2.91706770e-01  2.12858155e+00\n",
      "   8.51752464e-15 -4.77609639e-15 -1.20751602e-15 -9.75974608e-01\n",
      "   4.46346117e-01  8.35660036e-01]]\n"
     ]
    }
   ],
   "source": [
    "## Functions for cleaning the data\n",
    "def replaceWithMean(data, replacedValue):\n",
    "    nRows = np.shape(data)[0]\n",
    "    nCols = np.shape(data)[1]\n",
    "    for j in range(0, nCols):\n",
    "        rowSum = 0\n",
    "        n = 0\n",
    "        toBeReplaced = [];\n",
    "        for i in range(0, nRows):\n",
    "            if data[i, j] != replacedValue:\n",
    "                rowSum += data[i, j]\n",
    "                n += 1\n",
    "            else:\n",
    "                toBeReplaced.append(i)\n",
    "        data[toBeReplaced, j] = rowSum / n\n",
    "    return data\n",
    "            \n",
    "def centeralizeData(data):\n",
    "    return np.apply_along_axis(lambda x: x - np.mean(x), 0, data)\n",
    "\n",
    "def scaleData(data):\n",
    "    return np.apply_along_axis(lambda x: x / np.std(x), 0, data)\n",
    "\n",
    "scaledData = scaleData(centeralizeData(replaceWithMean(tX, -999)))\n"
   ]
  },
  {
   "cell_type": "code",
   "execution_count": 12,
   "metadata": {},
   "outputs": [
    {
     "name": "stdout",
     "output_type": "stream",
     "text": [
      "[[ 1.38470000e+02  5.16550000e+01  9.78270000e+01  2.79800000e+01\n",
      "   9.10000000e-01  1.24711000e+02  2.66600000e+00  3.06400000e+00\n",
      "   4.19280000e+01  1.97760000e+02]\n",
      " [ 1.60937000e+02  6.87680000e+01  1.03235000e+02  4.81460000e+01\n",
      "   2.40373503e+00  3.71783360e+02 -8.21688171e-01  3.47300000e+00\n",
      "   2.07800000e+00  1.25157000e+02]\n",
      " [ 1.21858528e+02  1.62172000e+02  1.25953000e+02  3.56350000e+01\n",
      "   2.40373503e+00  3.71783360e+02 -8.21688171e-01  3.14800000e+00\n",
      "   9.33600000e+00  1.97814000e+02]\n",
      " [ 1.43905000e+02  8.14170000e+01  8.09430000e+01  4.14000000e-01\n",
      "   2.40373503e+00  3.71783360e+02 -8.21688171e-01  3.31000000e+00\n",
      "   4.14000000e-01  7.59680000e+01]\n",
      " [ 1.75864000e+02  1.69150000e+01  1.34805000e+02  1.64050000e+01\n",
      "   2.40373503e+00  3.71783360e+02 -8.21688171e-01  3.89100000e+00\n",
      "   1.64050000e+01  5.79830000e+01]\n",
      " [ 8.97440000e+01  1.35500000e+01  5.91490000e+01  1.16344000e+02\n",
      "   2.63600000e+00  2.84584000e+02 -5.40000000e-01  1.36200000e+00\n",
      "   6.16190000e+01  2.78876000e+02]\n",
      " [ 1.48754000e+02  2.88620000e+01  1.07782000e+02  1.06130000e+02\n",
      "   7.33000000e-01  1.58359000e+02  1.13000000e-01  2.94100000e+00\n",
      "   2.54500000e+00  3.05967000e+02]\n",
      " [ 1.54916000e+02  1.04180000e+01  9.47140000e+01  2.91690000e+01\n",
      "   2.40373503e+00  3.71783360e+02 -8.21688171e-01  2.89700000e+00\n",
      "   1.52600000e+00  1.38178000e+02]\n",
      " [ 1.05594000e+02  5.05590000e+01  1.00989000e+02  4.28800000e+00\n",
      "   2.40373503e+00  3.71783360e+02 -8.21688171e-01  2.90400000e+00\n",
      "   4.28800000e+00  6.53330000e+01]\n",
      " [ 1.28053000e+02  8.89410000e+01  6.92720000e+01  1.93392000e+02\n",
      "   2.40373503e+00  3.71783360e+02 -8.21688171e-01  1.60900000e+00\n",
      "   2.88590000e+01  2.55123000e+02]]\n",
      "121.85852835958934\n"
     ]
    }
   ],
   "source": []
  },
  {
   "cell_type": "code",
   "execution_count": 10,
   "metadata": {},
   "outputs": [],
   "source": [
    "DATA_TEST_PATH = '' # TODO: download train data and supply path here \n",
    "_, tX_test, ids_test = load_csv_data(DATA_TEST_PATH)"
   ]
  },
  {
   "cell_type": "code",
   "execution_count": 31,
   "metadata": {},
   "outputs": [],
   "source": [
    "OUTPUT_PATH = '' # TODO: fill in desired name of output file for submission\n",
    "y_pred = predict_labels(weights, tX_test)\n",
    "create_csv_submission(ids_test, y_pred, OUTPUT_PATH)"
   ]
  },
  {
   "cell_type": "code",
   "execution_count": null,
   "metadata": {
    "collapsed": true
   },
   "outputs": [],
   "source": []
  }
 ],
 "metadata": {
  "anaconda-cloud": {},
  "kernelspec": {
   "display_name": "Python 3",
   "language": "python",
   "name": "python3"
  },
  "language_info": {
   "codemirror_mode": {
    "name": "ipython",
    "version": 3
   },
   "file_extension": ".py",
   "mimetype": "text/x-python",
   "name": "python",
   "nbconvert_exporter": "python",
   "pygments_lexer": "ipython3",
   "version": "3.7.3"
  }
 },
 "nbformat": 4,
 "nbformat_minor": 1
}
