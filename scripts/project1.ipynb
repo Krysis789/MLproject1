{
 "cells": [
  {
   "cell_type": "code",
   "execution_count": 1,
   "metadata": {},
   "outputs": [],
   "source": [
    "# Useful starting lines\n",
    "%matplotlib inline\n",
    "import numpy as np\n",
    "import matplotlib.pyplot as plt\n",
    "%load_ext autoreload\n",
    "%autoreload 2"
   ]
  },
  {
   "cell_type": "markdown",
   "metadata": {},
   "source": [
    "## Load the training data into feature matrix, class labels, and event ids:"
   ]
  },
  {
   "cell_type": "code",
   "execution_count": 2,
   "metadata": {},
   "outputs": [],
   "source": [
    "from proj1_helpers import *\n",
    "DATA_TRAIN_PATH = '../../data/train.csv' # TODO: download train data and supply path here \n",
    "y, tX, ids = load_csv_data(DATA_TRAIN_PATH)"
   ]
  },
  {
   "cell_type": "markdown",
   "metadata": {},
   "source": [
    "## Do your thing crazy machine learning thing here :) ..."
   ]
  },
  {
   "cell_type": "code",
   "execution_count": 11,
   "metadata": {},
   "outputs": [
    {
     "name": "stdout",
     "output_type": "stream",
     "text": [
      "[ 8.03320457e-05 -7.20236456e-03 -6.05394729e-03 -5.47591803e-04\n",
      " -1.93839880e-02  4.73429232e-04 -2.60392491e-02  3.25105641e-01\n",
      " -3.80831024e-05 -2.72785891e+00 -2.21220397e-01  9.50793593e-02\n",
      "  6.40330465e-02  2.73611857e+00 -3.31802268e-04 -9.54326312e-04\n",
      "  2.74087533e+00 -5.34165279e-04  9.73498884e-04  3.69225050e-03\n",
      "  3.54487165e-04 -5.43344617e-04 -3.30448034e-01 -1.40800496e-03\n",
      "  8.31432874e-04  1.02117271e-03 -1.68047418e-03 -5.83664770e-03\n",
      " -1.11088005e-02  2.72831885e+00]\n"
     ]
    }
   ],
   "source": [
    "##Implementations of the required function\n",
    "\n",
    "#Linear regression using gradient descent\n",
    "def least_squares_GD(y, tx, initial_w, max_iters, gamma):\n",
    "    nIters = 0 #Keep count of iterations\n",
    "    w = initial_w #Current weights\n",
    "    n = len(y) #Number of observations\n",
    "    while (nIters < max_iters):\n",
    "        e = y - np.dot(tx, w) #Residual vector\n",
    "        gradient = -np.dot(np.transpose(tx), e) / n #Gradient\n",
    "        w -= gamma * gradient #A step towards negative gradient\n",
    "        nIters += 1 #Update number of iterations\n",
    "    e = y - np.dot(tx, w) #Compute final residuals\n",
    "    return w, np.dot(np.transpose(e), e) / (2 * n) #Return weights and loss (2n as a scaler)\n",
    "\n",
    "#Linear regression using stochastic gradient descent\n",
    "def least_squares_SGD(y, tx, initial_w, max_iters, gamma):\n",
    "    nIters = 0\n",
    "    w = initial_w\n",
    "    n = len(y)\n",
    "    while (nIters < max_iters):\n",
    "        index = np.random.randint(0, n) #Pick a row uniformly\n",
    "        row = tx[np.random.randint(0, n), ] \n",
    "        e = y[index] - np.dot(row, w) #Estimate error\n",
    "        gradient = -np.dot(np.transpose(row), e) #Estimate for gradient\n",
    "        w -= gamma * gradient #Calculate new w\n",
    "        nIters += 1 #Update number of iterations\n",
    "    e = y - np.dot(tx, w) #Calculate residuals for final loss\n",
    "    return w, np.dot(np.transpose(e), e) / (2 * n) #Return weights and loss (2n as a scaler)\n",
    "\n",
    "#Least squares regression using normal equations\n",
    "def least_squares(y, tx):\n",
    "    xtx = np.dot(np.transpose(tx), tx) #Calculate Gram matrix\n",
    "    w = np.dot(np.dot(np.linalg.inv(xtx), np.transpose(tx)), y) #Calculate weigths\n",
    "    e = y - np.dot(tx, w) #Calculate residuals\n",
    "    loss = np.dot(np.transpose(e), e) / (2 * len(y)) #Calculate loss (2n as scaler)\n",
    "    return w, loss\n",
    "\n",
    "#Ridge regression using normal equations\n",
    "def ridge_regression(y, tx, lambda_):\n",
    "    xtx = np.dot(np.transpose(tx), tx) + lambda_ * np.identity(np.shape(tx)[1]) #Calculate modified Gram matrix\n",
    "    w = np.dot(np.dot(np.linalg.inv(xtx), np.transpose(tx)), y) #Calculate weigths\n",
    "    e = y - np.dot(tx, w) #Calculate residuals\n",
    "    loss = np.dot(np.transpose(e), e) / (2 * len(y)) #Calculate loss (2n as scaler)\n",
    "    return w, loss\n",
    "\n",
    "#Logistic regression using gradient descent or SGD\n",
    "def logistic_regression(y, tx, initial_w, max_iters, gamma):\n",
    "    return 0\n",
    "#Regularized logistic regression using gradient descent or SGD\n",
    "def reg_logistic_regression(y, tx, lambda_, initial_w, max_iters, gamma):\n",
    "    return 0\n",
    "\n",
    "## Tests:\n",
    "w1, loss1 = least_squares(y, tX)\n",
    "w2, loss2 = ridge_regression(y, tX, 0.02)\n",
    "w3, loss3 = least_squares_GD(y, tX, 10 * w2, 20, 0.01)\n",
    "w4, loss4 = least_squares_SGD(y, tX, np.ones(30), 10, 0.01)\n",
    "print(w1)\n"
   ]
  },
  {
   "cell_type": "code",
   "execution_count": 10,
   "metadata": {},
   "outputs": [],
   "source": [
    "DATA_TEST_PATH = '' # TODO: download train data and supply path here \n",
    "_, tX_test, ids_test = load_csv_data(DATA_TEST_PATH)"
   ]
  },
  {
   "cell_type": "code",
   "execution_count": 31,
   "metadata": {},
   "outputs": [],
   "source": [
    "OUTPUT_PATH = '' # TODO: fill in desired name of output file for submission\n",
    "y_pred = predict_labels(weights, tX_test)\n",
    "create_csv_submission(ids_test, y_pred, OUTPUT_PATH)"
   ]
  },
  {
   "cell_type": "code",
   "execution_count": null,
   "metadata": {
    "collapsed": true
   },
   "outputs": [],
   "source": []
  }
 ],
 "metadata": {
  "anaconda-cloud": {},
  "kernelspec": {
   "display_name": "Python 3",
   "language": "python",
   "name": "python3"
  },
  "language_info": {
   "codemirror_mode": {
    "name": "ipython",
    "version": 3
   },
   "file_extension": ".py",
   "mimetype": "text/x-python",
   "name": "python",
   "nbconvert_exporter": "python",
   "pygments_lexer": "ipython3",
   "version": "3.7.3"
  }
 },
 "nbformat": 4,
 "nbformat_minor": 1
}
