{
 "cells": [
  {
   "cell_type": "code",
   "execution_count": 1,
   "metadata": {},
   "outputs": [],
   "source": [
    "# Useful starting lines\n",
    "%matplotlib inline\n",
    "import numpy as np\n",
    "import matplotlib.pyplot as plt\n",
    "%load_ext autoreload\n",
    "%autoreload 2"
   ]
  },
  {
   "cell_type": "markdown",
   "metadata": {},
   "source": [
    "## Load the training data into feature matrix, class labels, and event ids:"
   ]
  },
  {
   "cell_type": "code",
   "execution_count": 2,
   "metadata": {},
   "outputs": [],
   "source": [
    "from proj1_helpers import *\n",
    "DATA_TRAIN_PATH = '../../data/train.csv' # TODO: download train data and supply path here \n",
    "y, tX, ids = load_csv_data(DATA_TRAIN_PATH)"
   ]
  },
  {
   "cell_type": "markdown",
   "metadata": {},
   "source": [
    "## Do your thing crazy machine learning thing here :) ..."
   ]
  },
  {
   "cell_type": "code",
   "execution_count": 20,
   "metadata": {},
   "outputs": [
    {
     "name": "stdout",
     "output_type": "stream",
     "text": [
      "[ 4.10811719e-05 -7.58093451e-03 -5.60715130e-03 -5.22544075e-04\n",
      " -4.47382865e-02  5.16542825e-04 -1.53565134e-02  2.97133279e-01\n",
      " -1.39315245e-03 -2.79211972e+00 -2.48659690e-01  9.82514531e-02\n",
      "  3.45996114e-01  2.79904928e+00 -4.47852617e-04 -7.39548246e-04\n",
      "  2.80533578e+00 -1.09832905e-03  1.23511990e-03  3.11742132e-03\n",
      "  5.50036683e-04 -5.12787102e-04 -2.84800464e-01 -5.30172680e-03\n",
      "  4.68129559e-04  3.69288507e-04 -9.76263056e-03  1.50504847e-03\n",
      " -2.16592538e-03  2.79711320e+00]\n"
     ]
    }
   ],
   "source": [
    "##Implementations of the required function\n",
    "\n",
    "#Linear regression using gradient descent\n",
    "def least_squares_GD(y, tx, initial_w, max_iters, gamma):\n",
    "    nIters = 0 #Keep count of iterations\n",
    "    w = initial_w #Current weights\n",
    "    n = len(y) #Number of observations\n",
    "    while (nIters < max_iters):\n",
    "        e = y - np.dot(tx, w) #Residual vector\n",
    "        gradient = -np.dot(np.transpose(tx), e) / n #Gradient\n",
    "        w -= gamma * gradient #A step towards negative gradient\n",
    "        nIters += 1 #Update number of iterations\n",
    "    e = y - np.dot(tx, w) #Compute final residuals\n",
    "    return w, np.dot(np.transpose(e), e) / (2 * n) #Return weights and loss (2n as a scaler)\n",
    "\n",
    "#Linear regression using stochastic gradient descent\n",
    "def least_squares_SGD(y, tx, initial_w, max_iters, gamma):\n",
    "    nIters = 0\n",
    "    w = initial_w\n",
    "    n = len(y)\n",
    "    while (nIters < max_iters):\n",
    "        index = np.random.randint(0, n) #Pick a row uniformly\n",
    "        row = tx[np.random.randint(0, n), ] \n",
    "        e = y[index] - np.dot(row, w) #Estimate for error\n",
    "        gradient = -np.dot(np.transpose(row), e) #Estimate for the gradient\n",
    "        w -= gamma * gradient #Calculate new w\n",
    "        nIters += 1 #Update number of iterations\n",
    "    e = y - np.dot(tx, w) #Calculate the residuals for the final loss\n",
    "    return w, np.dot(np.transpose(e), e) / (2 * n) #Return the weights and the loss (2n as a scaler)\n",
    "\n",
    "#Least squares regression using normal equations\n",
    "def least_squares(y, tx):\n",
    "    xtx = np.dot(np.transpose(tx), tx) #Calculate the Gram matrix\n",
    "    w = np.dot(np.dot(np.linalg.inv(xtx), np.transpose(tx)), y) #Calculate the weigths\n",
    "    e = y - np.dot(tx, w) #Calculate the residuals\n",
    "    loss = np.dot(np.transpose(e), e) / (2 * len(y)) #Calculate the loss (2n as a scaler)\n",
    "    return w, loss\n",
    "\n",
    "#Ridge regression using normal equations\n",
    "def ridge_regression(y, tx, lambda_):\n",
    "    xtx = np.dot(np.transpose(tx), tx) + lambda_ * np.identity(np.shape(tx)[1]) #Calculate the modified Gram matrix\n",
    "    w = np.dot(np.dot(np.linalg.inv(xtx), np.transpose(tx)), y) #Calculate the weigths\n",
    "    e = y - np.dot(tx, w) #Calculate residuals\n",
    "    loss = np.dot(np.transpose(e), e) / (2 * len(y)) #Calculate the loss (2n as a scaler)\n",
    "    return w, loss\n",
    "\n",
    "#Logistic regression using gradient descent\n",
    "def logistic_regression(y, tx, initial_w, max_iters, gamma):\n",
    "    nIters = 0\n",
    "    w = initial_w\n",
    "    n = len(y)\n",
    "    while (nIters < max_iters): \n",
    "        gradient = np.dot(np.transpose(tx), sigmoid(np.dot(tx, w)) - y)\n",
    "        w -= gamma * gradient #Calculate new w\n",
    "        nIters += 1 #Update number of iterations\n",
    "    loss = np.sum(np.log(1 + np.exp(np.dot(tx, w))) - y * np.dot(tx, w))\n",
    "    return w, np.dot(np.transpose(e), e) / (2 * n) #Return weights and loss (2n as a scaler)\n",
    "\n",
    "#Regularized logistic regression using gradient descent or SGD\n",
    "def reg_logistic_regression(y, tx, lambda_, initial_w, max_iters, gamma):\n",
    "    return 0\n",
    "\n",
    "## Tests:\n",
    "w1, loss1 = least_squares(y, tX)\n",
    "w2, loss2 = ridge_regression(y, tX, 0.02)\n",
    "w3, loss3 = least_squares_GD(y, tX, 10 * w2, 20, 0.01)\n",
    "w4, loss4 = least_squares_SGD(y, tX, np.ones(30), 10, 0.01)\n",
    "print(w1)\n"
   ]
  },
  {
   "cell_type": "code",
   "execution_count": 21,
   "metadata": {},
   "outputs": [],
   "source": [
    "## Functions for cleaning the data\n",
    "def replace_with_mean(data, replacedValue):\n",
    "    nRows = np.shape(data)[0]\n",
    "    nCols = np.shape(data)[1]\n",
    "    for j in range(0, nCols):\n",
    "        rowSum = 0\n",
    "        n = 0\n",
    "        toBeReplaced = [];\n",
    "        for i in range(0, nRows):\n",
    "            if data[i, j] != replacedValue:\n",
    "                rowSum += data[i, j]\n",
    "                n += 1\n",
    "            else:\n",
    "                toBeReplaced.append(i)\n",
    "        data[toBeReplaced, j] = rowSum / n\n",
    "    return data\n",
    "            \n",
    "def centeralize_data(data):\n",
    "    return np.apply_along_axis(lambda x: x - np.mean(x), 0, data)\n",
    "\n",
    "def scale_data(data):\n",
    "    return np.apply_along_axis(lambda x: x / np.std(x), 0, data)\n",
    "\n"
   ]
  },
  {
   "cell_type": "code",
   "execution_count": 18,
   "metadata": {},
   "outputs": [
    {
     "data": {
      "text/plain": [
       "(250000,)"
      ]
     },
     "execution_count": 18,
     "metadata": {},
     "output_type": "execute_result"
    }
   ],
   "source": [
    "## Functions for separating data sets to train and test data\n",
    "def split_data(x, y, ratio, seed=1):\n",
    "    #Split the dataset based on the split ratio.\n",
    "    np.random.seed(seed) #Set a seed for reproducilbility\n",
    "    trainSize = int(np.round(len(y) * ratio)) #Calculate the desired size of the train data set \n",
    "    trainIndexes = np.random.choice(len(y), trainSize, False) #Sample the training data\n",
    "    testIndexes = np.setdiff1d(np.arange(len(y)), trainIndexes, assume_unique=True) #Select the test data\n",
    "    return x[trainIndexes], y[trainIndexes, ], x[testIndexes], y[testIndexes]\n"
   ]
  },
  {
   "cell_type": "code",
   "execution_count": 10,
   "metadata": {},
   "outputs": [],
   "source": [
    "DATA_TEST_PATH = '' # TODO: download train data and supply path here \n",
    "_, tX_test, ids_test = load_csv_data(DATA_TEST_PATH)"
   ]
  },
  {
   "cell_type": "code",
   "execution_count": 31,
   "metadata": {},
   "outputs": [],
   "source": [
    "OUTPUT_PATH = '' # TODO: fill in desired name of output file for submission\n",
    "y_pred = predict_labels(weights, tX_test)\n",
    "create_csv_submission(ids_test, y_pred, OUTPUT_PATH)"
   ]
  },
  {
   "cell_type": "code",
   "execution_count": null,
   "metadata": {
    "collapsed": true
   },
   "outputs": [],
   "source": []
  }
 ],
 "metadata": {
  "anaconda-cloud": {},
  "kernelspec": {
   "display_name": "Python 3",
   "language": "python",
   "name": "python3"
  },
  "language_info": {
   "codemirror_mode": {
    "name": "ipython",
    "version": 3
   },
   "file_extension": ".py",
   "mimetype": "text/x-python",
   "name": "python",
   "nbconvert_exporter": "python",
   "pygments_lexer": "ipython3",
   "version": "3.7.3"
  }
 },
 "nbformat": 4,
 "nbformat_minor": 1
}
